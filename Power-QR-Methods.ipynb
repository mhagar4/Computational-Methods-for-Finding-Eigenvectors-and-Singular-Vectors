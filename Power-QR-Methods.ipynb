{
 "cells": [
  {
   "cell_type": "code",
   "execution_count": 30,
   "metadata": {},
   "outputs": [],
   "source": [
    "using SymPy\n",
    "import LinearAlgebra: norm, dot, qr, I"
   ]
  },
  {
   "cell_type": "markdown",
   "metadata": {},
   "source": [
    "Functions for Power Method :)"
   ]
  },
  {
   "cell_type": "code",
   "execution_count": 75,
   "metadata": {},
   "outputs": [
    {
     "data": {
      "text/plain": [
       "([0.30798633001944875, 0.7260722934130327, 0.5723504095009087, 0.22445145132797034], 18.43302680219626)"
      ]
     },
     "execution_count": 75,
     "metadata": {},
     "output_type": "execute_result"
    }
   ],
   "source": [
    "function leadEigen(A) #computes leading (eigenvector, eigenvalue) pair\n",
    "    #A is nxn\n",
    "    n      = size(A)[2] #number of columns \n",
    "    u_0    = rand(n) #some random start vector\n",
    "    u_1    = A*u_0\n",
    "    u_prev = u_0 \n",
    "    u_curr = u_1/norm(u_1) #normalize\n",
    "    lambda = 0\n",
    "    i = 0\n",
    "    while(u_curr!=u_prev && i<=1000)#max 1000 iterations if res must b approx\n",
    "        u_prev  = u_curr\n",
    "        u_curr  = A*u_prev #repeatedly multiply by A (power method)\n",
    "        u_curr /= norm(u_curr)\n",
    "        i+=1\n",
    "    end\n",
    "    lambda  = (u_curr')*A*u_curr\n",
    "    return (u_curr, lambda)\n",
    "end\n",
    "A = [2 1 6; 2 3 5; 8 9 0]\n",
    "B = [4 3 2 5;\n",
    "     9 8 8 1;\n",
    "     9 3 9 2;\n",
    "     6 0 4 0]\n",
    "leadEigen(B)"
   ]
  },
  {
   "cell_type": "code",
   "execution_count": 32,
   "metadata": {},
   "outputs": [
    {
     "data": {
      "text/plain": [
       "([0.2790282328184172, 0.2938084077581624, 0.9142318441297286], 10.080296311193793)"
      ]
     },
     "execution_count": 32,
     "metadata": {},
     "output_type": "execute_result"
    }
   ],
   "source": [
    "function leadLeftSing(A) #computes leading left singular (vector, value) pair\n",
    "    #A is mxn\n",
    "    V     = (A')*A\n",
    "    (v, σ) = leadEigen(V)\n",
    "    sigma = σ^0.5 #singular vals roots of evals\n",
    "    return (v, sigma)\n",
    "end\n",
    "A = [2 1 6; 2 3 7]\n",
    "leadLeftSing(A)"
   ]
  },
  {
   "cell_type": "code",
   "execution_count": 33,
   "metadata": {},
   "outputs": [
    {
     "data": {
      "text/plain": [
       "2-element Vector{Float64}:\n",
       " 0.6286775450376474\n",
       " 0.7776660879615599"
      ]
     },
     "execution_count": 33,
     "metadata": {},
     "output_type": "execute_result"
    }
   ],
   "source": [
    "function leadRightSing(A) #computes leading right singular (vector, value) pair\n",
    "    (v, σ) = leadLeftSing(A)\n",
    "    u = A*v/σ\n",
    "    return u\n",
    "end\n",
    "A = [2 1 6; 2 3 7]\n",
    "leadRightSing(A)"
   ]
  },
  {
   "cell_type": "code",
   "execution_count": 74,
   "metadata": {},
   "outputs": [
    {
     "data": {
      "text/plain": [
       "([0.0983104466273777, 0.44254472923772786, 0.7177803926621973, 0.5284699864869654], -3.705916043489471)"
      ]
     },
     "execution_count": 74,
     "metadata": {},
     "output_type": "execute_result"
    }
   ],
   "source": [
    "function ithEigen(A, i) #computes ith (eigenvector, eigenvalue) pair\n",
    "    j = 1\n",
    "    (v, λ) = leadEigen(A) \n",
    "    while(j < i)\n",
    "        A = A - λ*v*(v') #deflation to compute ith eval\n",
    "        (v, λ) = leadEigen(A) \n",
    "        j += 1\n",
    "    end\n",
    "    return (v, λ)\n",
    "end\n",
    "A = [2 1 6; 2 3 5; 8 9 0]\n",
    "B = [4 3 2 5;\n",
    "     9 8 8 1;\n",
    "     9 3 9 2;\n",
    "     6 0 4 0]\n",
    "\n",
    "ithEigen(B, 3)\n"
   ]
  },
  {
   "cell_type": "code",
   "execution_count": 35,
   "metadata": {},
   "outputs": [
    {
     "data": {
      "text/plain": [
       "([-0.25295694677442165, 0.9409079791373699, -0.22517761406097403], 1.1779754999713552)"
      ]
     },
     "execution_count": 35,
     "metadata": {},
     "output_type": "execute_result"
    }
   ],
   "source": [
    "function ithLeftSing(A, i) #computes ith left singular (vector, value) pair\n",
    "    V = (A')*A\n",
    "    (v, σ) = ithEigen(V, i) \n",
    "    sigma = σ^0.5 #singular vals roots of eigen vals\n",
    "    return (v, sigma)\n",
    "end\n",
    "A = [2 1 6; 2 3 7]\n",
    "ithLeftSing(A, 2)"
   ]
  },
  {
   "cell_type": "code",
   "execution_count": 36,
   "metadata": {},
   "outputs": [
    {
     "data": {
      "text/plain": [
       "2-element Vector{Float64}:\n",
       " -0.7776660879615598\n",
       "  0.6286775450376471"
      ]
     },
     "execution_count": 36,
     "metadata": {},
     "output_type": "execute_result"
    }
   ],
   "source": [
    "function ithRightSing(A, i) #computes ith right singular (vector, value) pair\n",
    "    (v, σ) = ithLeftSing(A, i) \n",
    "    u = A*v/σ #proven in class\n",
    "    return u\n",
    "end\n",
    "A = [2 1 6; 2 3 7]\n",
    "ithRightSing(A, 2)"
   ]
  },
  {
   "cell_type": "markdown",
   "metadata": {},
   "source": [
    "Functions for QR Method"
   ]
  },
  {
   "cell_type": "code",
   "execution_count": 39,
   "metadata": {},
   "outputs": [
    {
     "data": {
      "text/plain": [
       "isUpperTri (generic function with 1 method)"
      ]
     },
     "execution_count": 39,
     "metadata": {},
     "output_type": "execute_result"
    }
   ],
   "source": [
    "function isUpperTri(A) #returns true is matrix is (approx) upper tri\n",
    "    n = size(A)[1] \n",
    "    for i = 1:n\n",
    "        for j = 1:n\n",
    "            if(i > j && abs(A[i, j]) >= 1*10^-100) #approximating 0s subdiag\n",
    "                return false\n",
    "            end\n",
    "        end\n",
    "    end\n",
    "    return true\n",
    "end"
   ]
  },
  {
   "cell_type": "code",
   "execution_count": 60,
   "metadata": {},
   "outputs": [
    {
     "data": {
      "text/plain": [
       "5.999999999999999"
      ]
     },
     "execution_count": 60,
     "metadata": {},
     "output_type": "execute_result"
    }
   ],
   "source": [
    "function QREVal(A) #returns leading eigenvalue using QR method\n",
    "    if(isUpperTri(A)) #returns when A converges to upper tri matrix\n",
    "        return A[1,1] #eigenvals on diagonal (leading eval at top left)\n",
    "    end\n",
    "    (Q, R) = qr(A) #general qr method\n",
    "    B = R*Q\n",
    "    return QREVal(B)\n",
    "end\n",
    "A = [2 1 6; \n",
    "     2 3 5; \n",
    "     8 9 0]\n",
    "B = [4 3 2 5;\n",
    "     9 8 8 1;\n",
    "     9 3 9 2;\n",
    "     6 0 4 0]\n",
    "B = [2 0 2 0 2;\n",
    "     0 3 0 3 0;\n",
    "     2 0 2 0 2; \n",
    "     0 3 0 3 0; \n",
    "     2 0 2 0 2]\n",
    "QREVal(B)"
   ]
  },
  {
   "cell_type": "code",
   "execution_count": 61,
   "metadata": {},
   "outputs": [
    {
     "data": {
      "text/plain": [
       "5.999999999999999"
      ]
     },
     "execution_count": 61,
     "metadata": {},
     "output_type": "execute_result"
    }
   ],
   "source": [
    "function QREValShift(A) #use shifting to increase speed\n",
    "    n = size(A)[2]\n",
    "    if(isUpperTri(A))\n",
    "        return A[1,1]\n",
    "    end\n",
    "    (Q, R) = qr(A)\n",
    "    q = Q[:,n] #last column of Q\n",
    "    shift = (q')*(A*q)/((q')*q) #raleigh quotient shift\n",
    "    (Q, R) = qr(A - shift*I)\n",
    "    B = R*Q + shift*I\n",
    "    return QREValShift(B)\n",
    "end\n",
    "C = [4 3 2 5;\n",
    "     9 8 8 1;\n",
    "     9 3 9 2;\n",
    "     6 0 4 0]\n",
    "B = [2 0 2 0 2;\n",
    "     0 3 0 3 0;\n",
    "     2 0 2 0 2; \n",
    "     0 3 0 3 0; \n",
    "     2 0 2 0 2]\n",
    "QREValShift(B)"
   ]
  },
  {
   "cell_type": "code",
   "execution_count": 44,
   "metadata": {},
   "outputs": [
    {
     "data": {
      "text/plain": [
       "0.0"
      ]
     },
     "execution_count": 44,
     "metadata": {},
     "output_type": "execute_result"
    }
   ],
   "source": [
    "function QRithEVal(A, i) #returns ith eval\n",
    "    if(isUpperTri(A))\n",
    "        return A[i,i] #ith eval is ith elem on diagonal\n",
    "    end\n",
    "    (Q, R) = qr(A) #general qr method\n",
    "    B = R*Q\n",
    "    return QRithEVal(B, i)\n",
    "end\n",
    "B = [4 3 2 5;\n",
    "     9 8 8 1;\n",
    "     9 3 9 2;\n",
    "     6 0 4 0]\n",
    "B = [2 0 2 0 2;\n",
    "     0 3 0 3 0;\n",
    "     2 0 2 0 2; \n",
    "     0 3 0 3 0; \n",
    "     2 0 2 0 2]\n",
    "QRithEVal(B, 3)   "
   ]
  },
  {
   "cell_type": "code",
   "execution_count": 45,
   "metadata": {},
   "outputs": [
    {
     "data": {
      "text/plain": [
       "5×5 Matrix{Float64}:\n",
       " 6.0  0.0  0.0   0.0          0.0\n",
       " 0.0  6.0  0.0  -8.88178e-16  0.0\n",
       " 0.0  0.0  0.0   0.0          0.0\n",
       " 0.0  0.0  0.0   0.0          0.0\n",
       " 0.0  0.0  0.0   0.0          0.0"
      ]
     },
     "execution_count": 45,
     "metadata": {},
     "output_type": "execute_result"
    }
   ],
   "source": [
    "function QREValMat(A) #returns resultant upper tri matrix A w/ evals on diag\n",
    "    if(isUpperTri(A)) #only returns when A is upper tri\n",
    "        return A\n",
    "    end\n",
    "    (Q, R) = qr(A) #general qr method\n",
    "    B = R*Q\n",
    "    return QREValMat(B)\n",
    "end\n",
    "A = [2 1 6; 2 3 5; 8 9 0]\n",
    "B = [4 3 2 5 3;\n",
    "     9 8 8 1 1;\n",
    "     9 3 9 2 4;\n",
    "     6 0 4 0 1;\n",
    "     5 9 2 6 5]\n",
    "B = [2 0 2 0 2;\n",
    "     0 3 0 3 0;\n",
    "     2 0 2 0 2; \n",
    "     0 3 0 3 0; \n",
    "     2 0 2 0 2]\n",
    "QREValMat(B)"
   ]
  },
  {
   "cell_type": "code",
   "execution_count": 46,
   "metadata": {},
   "outputs": [
    {
     "data": {
      "text/plain": [
       "-609.9999999999999"
      ]
     },
     "execution_count": 46,
     "metadata": {},
     "output_type": "execute_result"
    }
   ],
   "source": [
    "function QRDet(A)\n",
    "    det = 1 \n",
    "    B = QREValMat(A) #computes upper triangular matrix using QR method\n",
    "    n = size(A)[1]\n",
    "    for i = 1:n \n",
    "     lambda = B[i,i]\n",
    "     if lambda == 0 #returns 0 immediately once we get 0 eigenvalue\n",
    "        return 0\n",
    "     end\n",
    "     det *= lambda #determinant is produt of eigenvalues\n",
    "    end\n",
    "    return det\n",
    "end\n",
    "A = [2 1 6; 2 3 5; 8 9 0]\n",
    "B = [4 3 2 5;\n",
    "     9 8 8 1;\n",
    "     9 3 9 2;\n",
    "     6 0 4 0]\n",
    "QRDet(B)"
   ]
  },
  {
   "cell_type": "code",
   "execution_count": 48,
   "metadata": {},
   "outputs": [
    {
     "data": {
      "text/plain": [
       "10.080296311193795"
      ]
     },
     "execution_count": 48,
     "metadata": {},
     "output_type": "execute_result"
    }
   ],
   "source": [
    "function QRLSingVal(A) #computes leading left singular value\n",
    "    V = (A')*A\n",
    "    lambda = QREVal(V)\n",
    "    sigma = lambda^0.5\n",
    "    return sigma\n",
    "end\n",
    "A = [2 1 6; 2 3 7]\n",
    "QRLSingVal(A)"
   ]
  },
  {
   "cell_type": "code",
   "execution_count": 58,
   "metadata": {},
   "outputs": [
    {
     "data": {
      "text/plain": [
       "16.7868829209782"
      ]
     },
     "execution_count": 58,
     "metadata": {},
     "output_type": "execute_result"
    }
   ],
   "source": [
    "function QRRSingVal(A) #computes leading right singular value\n",
    "    U = A*A'\n",
    "    lambda = QREVal(U)\n",
    "    sigma = lambda^0.5\n",
    "    return sigma\n",
    "end\n",
    "A = [3 1 4; 1 5 9; 2 6 5; 3 5 8]\n",
    "QRRSingVal(A)"
   ]
  },
  {
   "cell_type": "code",
   "execution_count": 50,
   "metadata": {},
   "outputs": [
    {
     "data": {
      "text/plain": [
       "QAcc (generic function with 1 method)"
      ]
     },
     "execution_count": 50,
     "metadata": {},
     "output_type": "execute_result"
    }
   ],
   "source": [
    "function QAcc(A, Q) #accumulator function to multiply all computed Q's\n",
    "    if(isUpperTri(A))\n",
    "        return Q\n",
    "    end\n",
    "    (Q_curr, R) = qr(A)\n",
    "    B = R*Q_curr\n",
    "    return QAcc(B, Q*Q_curr)\n",
    "end"
   ]
  },
  {
   "cell_type": "code",
   "execution_count": 82,
   "metadata": {},
   "outputs": [
    {
     "data": {
      "text/plain": [
       "3-element Vector{Float64}:\n",
       " 0.2792467837311729\n",
       " 0.2941869101050574\n",
       " 0.4108632729168768"
      ]
     },
     "execution_count": 82,
     "metadata": {},
     "output_type": "execute_result"
    }
   ],
   "source": [
    "function QRLeadEVec(A) #returns leading eigenvector of matrix A\n",
    "    (Q, R) = qr(A)\n",
    "    B = R*Q\n",
    "    X = QAcc(B, Q) #A = XT(X') is the Schur decomposition\n",
    "    X /= norm(X)   #cols of X are Schur vectors, first Schur vec = leading evec\n",
    "    return X[:,1]\n",
    "end\n",
    "A = [2 1 6; 2 3 5; 8 9 0]\n",
    "B = [4 3 2 5;\n",
    "     9 8 8 1;\n",
    "     9 3 9 2;\n",
    "     6 0 4 0]\n",
    "lambda = QREVal(B)\n",
    "QRLeadEVec(A)"
   ]
  },
  {
   "cell_type": "code",
   "execution_count": 57,
   "metadata": {},
   "outputs": [
    {
     "data": {
      "text/plain": [
       "3-element Vector{Float64}:\n",
       " -0.24422363818800713\n",
       " -0.5371016198697047\n",
       " -0.8073887938803415"
      ]
     },
     "execution_count": 57,
     "metadata": {},
     "output_type": "execute_result"
    }
   ],
   "source": [
    "function QRLSingVec(A) #leading left singular vector is leading evec of V\n",
    "    V = (A')*A\n",
    "    v = QRLeadEVec(V)[:,1]\n",
    "    v /= norm(v)\n",
    "    return v\n",
    "end\n",
    "A = [3 1 4; 1 5 9; 2 6 5; 3 5 8]\n",
    "QRLSingVec(A)"
   ]
  },
  {
   "cell_type": "code",
   "execution_count": 59,
   "metadata": {},
   "outputs": [
    {
     "data": {
      "text/plain": [
       "4-element Vector{Float64}:\n",
       " -0.26802639484262936\n",
       " -0.6073927441119876\n",
       " -0.46155090265825616\n",
       " -0.5883932956136751"
      ]
     },
     "execution_count": 59,
     "metadata": {},
     "output_type": "execute_result"
    }
   ],
   "source": [
    "function QRRSingVec(A) #leading left singular vector is leading evec of U\n",
    "    v = QRLSingVec(A)\n",
    "    sigma = QRLSingVal(A)\n",
    "    u = A*v/sigma\n",
    "    u /= norm(u)\n",
    "    return u\n",
    "end\n",
    "A = [3 1 4; 1 5 9; 2 6 5; 3 5 8]\n",
    "QRRSingVec(A)"
   ]
  },
  {
   "cell_type": "code",
   "execution_count": null,
   "metadata": {},
   "outputs": [
    {
     "data": {
      "text/plain": [
       "3×3 Matrix{Float64}:\n",
       " 8.48528  9.42809   2.59272\n",
       " 0.0      1.45297  -2.37063\n",
       " 0.0      0.0       6.97552"
      ]
     },
     "execution_count": 167,
     "metadata": {},
     "output_type": "execute_result"
    }
   ],
   "source": [
    "function getR(A) #extra function not used, included to show effort haha\n",
    "    Q = gramSchmidt(A)\n",
    "    n = size(A)[2]\n",
    "    R = zeros(n)\n",
    "    for i = 1:(n-1)\n",
    "        R = hcat(R, zeros(n))\n",
    "    end\n",
    "    for i = 1:n\n",
    "        q = Q[:,i]\n",
    "        for j = 1:n\n",
    "            a = A[:,j]\n",
    "            R[i, j] = (q')*a\n",
    "            if(abs(R[i, j]) < 1*10^(-10))\n",
    "                R[i, j] = 0\n",
    "            end\n",
    "        end\n",
    "    end\n",
    "    return R\n",
    "end\n",
    "A = [2 1 6; 2 3 5; 8 9 0]\n",
    "getR(A)\n",
    "    "
   ]
  }
 ],
 "metadata": {
  "interpreter": {
   "hash": "aa1c8879f84cf3b63afe6f15525ec85ba243754786b587a5e2857db36b80397d"
  },
  "kernelspec": {
   "display_name": "Julia 1.6.2",
   "language": "python",
   "name": "python3"
  },
  "language_info": {
   "file_extension": ".jl",
   "mimetype": "application/julia",
   "name": "python",
   "version": "3.8.5"
  },
  "orig_nbformat": 4
 },
 "nbformat": 4,
 "nbformat_minor": 2
}
